{
 "cells": [
  {
   "cell_type": "code",
   "execution_count": 1,
   "metadata": {
    "collapsed": true
   },
   "outputs": [],
   "source": [
    "%matplotlib inline"
   ]
  },
  {
   "cell_type": "code",
   "execution_count": 4,
   "metadata": {
    "collapsed": true
   },
   "outputs": [],
   "source": [
    "import numpy as np\n",
    "import pandas as pd\n",
    "import os"
   ]
  },
  {
   "cell_type": "code",
   "execution_count": 5,
   "metadata": {
    "collapsed": false
   },
   "outputs": [],
   "source": [
    "os.chdir(\"/Users/evanbiederstedt/downloads\")"
   ]
  },
  {
   "cell_type": "code",
   "execution_count": 49,
   "metadata": {
    "collapsed": false
   },
   "outputs": [],
   "source": [
    "df_SixGenomes = pd.read_table(\"SixGenomes.htsbox.out\", names = [\"contig\", \"sequence_coord\", \"sequence_start\", \"sequence_end\", \"pos_neg\", \"chromosome\", \"reference_coord\", \"reference_start\", \"reference_end\", \"unknown1\", \"unknown2\", \"mismatch_ins_del_score\"])"
   ]
  },
  {
   "cell_type": "code",
   "execution_count": 50,
   "metadata": {
    "collapsed": false
   },
   "outputs": [
    {
     "data": {
      "text/plain": [
       "(261465, 12)"
      ]
     },
     "execution_count": 50,
     "metadata": {},
     "output_type": "execute_result"
    }
   ],
   "source": [
    "df_SixGenomes.shape"
   ]
  },
  {
   "cell_type": "code",
   "execution_count": 51,
   "metadata": {
    "collapsed": false
   },
   "outputs": [
    {
     "data": {
      "text/html": [
       "<div>\n",
       "<table border=\"1\" class=\"dataframe\">\n",
       "  <thead>\n",
       "    <tr style=\"text-align: right;\">\n",
       "      <th></th>\n",
       "      <th>contig</th>\n",
       "      <th>sequence_coord</th>\n",
       "      <th>sequence_start</th>\n",
       "      <th>sequence_end</th>\n",
       "      <th>pos_neg</th>\n",
       "      <th>chromosome</th>\n",
       "      <th>reference_coord</th>\n",
       "      <th>reference_start</th>\n",
       "      <th>reference_end</th>\n",
       "      <th>unknown1</th>\n",
       "      <th>unknown2</th>\n",
       "      <th>mismatch_ins_del_score</th>\n",
       "    </tr>\n",
       "  </thead>\n",
       "  <tbody>\n",
       "    <tr>\n",
       "      <th>0</th>\n",
       "      <td>HG003.002828F</td>\n",
       "      <td>30680</td>\n",
       "      <td>20992</td>\n",
       "      <td>28248</td>\n",
       "      <td>-</td>\n",
       "      <td>chr1</td>\n",
       "      <td>248956422</td>\n",
       "      <td>10000</td>\n",
       "      <td>17237</td>\n",
       "      <td>0.0236</td>\n",
       "      <td>60</td>\n",
       "      <td>mm:59;ins:19,66;del:28,47;score:6500</td>\n",
       "    </tr>\n",
       "    <tr>\n",
       "      <th>1</th>\n",
       "      <td>CHM13.gi|953910992|gb|LDOC03004332.1|</td>\n",
       "      <td>32470</td>\n",
       "      <td>1405</td>\n",
       "      <td>2169</td>\n",
       "      <td>+</td>\n",
       "      <td>chr1</td>\n",
       "      <td>248956422</td>\n",
       "      <td>10051</td>\n",
       "      <td>10800</td>\n",
       "      <td>0.1843</td>\n",
       "      <td>21</td>\n",
       "      <td>mm:35;ins:18,65;del:8,50;score:231</td>\n",
       "    </tr>\n",
       "    <tr>\n",
       "      <th>2</th>\n",
       "      <td>HG003.010418F</td>\n",
       "      <td>2613</td>\n",
       "      <td>0</td>\n",
       "      <td>80</td>\n",
       "      <td>+</td>\n",
       "      <td>chr1</td>\n",
       "      <td>248956422</td>\n",
       "      <td>10117</td>\n",
       "      <td>10198</td>\n",
       "      <td>0.0123</td>\n",
       "      <td>13</td>\n",
       "      <td>mm:0;ins:0,0;del:1,1;score:73</td>\n",
       "    </tr>\n",
       "    <tr>\n",
       "      <th>3</th>\n",
       "      <td>CHM13.gi|953914572|gb|LDOC03001263.1|</td>\n",
       "      <td>32007</td>\n",
       "      <td>404</td>\n",
       "      <td>30696</td>\n",
       "      <td>+</td>\n",
       "      <td>chr1</td>\n",
       "      <td>248956422</td>\n",
       "      <td>10464</td>\n",
       "      <td>40733</td>\n",
       "      <td>0.0121</td>\n",
       "      <td>60</td>\n",
       "      <td>mm:130;ins:24,131;del:79,108;score:28654</td>\n",
       "    </tr>\n",
       "    <tr>\n",
       "      <th>4</th>\n",
       "      <td>HX1.000968F</td>\n",
       "      <td>103303</td>\n",
       "      <td>3798</td>\n",
       "      <td>3891</td>\n",
       "      <td>+</td>\n",
       "      <td>chr1</td>\n",
       "      <td>248956422</td>\n",
       "      <td>10829</td>\n",
       "      <td>10921</td>\n",
       "      <td>0.0323</td>\n",
       "      <td>0</td>\n",
       "      <td>mm:2;ins:1,1;del:0,0;score:75</td>\n",
       "    </tr>\n",
       "  </tbody>\n",
       "</table>\n",
       "</div>"
      ],
      "text/plain": [
       "                                  contig  sequence_coord  sequence_start  \\\n",
       "0                          HG003.002828F           30680           20992   \n",
       "1  CHM13.gi|953910992|gb|LDOC03004332.1|           32470            1405   \n",
       "2                          HG003.010418F            2613               0   \n",
       "3  CHM13.gi|953914572|gb|LDOC03001263.1|           32007             404   \n",
       "4                            HX1.000968F          103303            3798   \n",
       "\n",
       "   sequence_end pos_neg chromosome  reference_coord  reference_start  \\\n",
       "0         28248       -       chr1        248956422            10000   \n",
       "1          2169       +       chr1        248956422            10051   \n",
       "2            80       +       chr1        248956422            10117   \n",
       "3         30696       +       chr1        248956422            10464   \n",
       "4          3891       +       chr1        248956422            10829   \n",
       "\n",
       "   reference_end  unknown1  unknown2                    mismatch_ins_del_score  \n",
       "0          17237    0.0236        60      mm:59;ins:19,66;del:28,47;score:6500  \n",
       "1          10800    0.1843        21        mm:35;ins:18,65;del:8,50;score:231  \n",
       "2          10198    0.0123        13             mm:0;ins:0,0;del:1,1;score:73  \n",
       "3          40733    0.0121        60  mm:130;ins:24,131;del:79,108;score:28654  \n",
       "4          10921    0.0323         0             mm:2;ins:1,1;del:0,0;score:75  "
      ]
     },
     "execution_count": 51,
     "metadata": {},
     "output_type": "execute_result"
    }
   ],
   "source": [
    "df_SixGenomes.head()"
   ]
  },
  {
   "cell_type": "code",
   "execution_count": 53,
   "metadata": {
    "collapsed": false
   },
   "outputs": [
    {
     "name": "stdout",
     "output_type": "stream",
     "text": [
      "(261465, 12)\n"
     ]
    },
    {
     "data": {
      "text/html": [
       "<div>\n",
       "<table border=\"1\" class=\"dataframe\">\n",
       "  <thead>\n",
       "    <tr style=\"text-align: right;\">\n",
       "      <th></th>\n",
       "      <th>contig</th>\n",
       "      <th>sequence_coord</th>\n",
       "      <th>sequence_start</th>\n",
       "      <th>sequence_end</th>\n",
       "      <th>pos_neg</th>\n",
       "      <th>chromosome</th>\n",
       "      <th>reference_coord</th>\n",
       "      <th>reference_start</th>\n",
       "      <th>reference_end</th>\n",
       "      <th>unknown1</th>\n",
       "      <th>unknown2</th>\n",
       "      <th>mismatch_ins_del_score</th>\n",
       "    </tr>\n",
       "  </thead>\n",
       "  <tbody>\n",
       "    <tr>\n",
       "      <th>0</th>\n",
       "      <td>CHM13.gi|953902711|gb|LDOC03012091.1|</td>\n",
       "      <td>16569</td>\n",
       "      <td>0</td>\n",
       "      <td>16569</td>\n",
       "      <td>+</td>\n",
       "      <td>chrM</td>\n",
       "      <td>16569</td>\n",
       "      <td>0</td>\n",
       "      <td>16569</td>\n",
       "      <td>0.0002</td>\n",
       "      <td>60</td>\n",
       "      <td>mm:1;ins:1,1;del:1,1;score:16549</td>\n",
       "    </tr>\n",
       "    <tr>\n",
       "      <th>1</th>\n",
       "      <td>CHM13.gi|953902713|gb|LDOC03012090.1|</td>\n",
       "      <td>48337</td>\n",
       "      <td>0</td>\n",
       "      <td>48337</td>\n",
       "      <td>+</td>\n",
       "      <td>chr17</td>\n",
       "      <td>83257441</td>\n",
       "      <td>64870026</td>\n",
       "      <td>64918353</td>\n",
       "      <td>0.0064</td>\n",
       "      <td>60</td>\n",
       "      <td>mm:116;ins:25,101;del:64,91;score:46930</td>\n",
       "    </tr>\n",
       "    <tr>\n",
       "      <th>2</th>\n",
       "      <td>CHM13.gi|953902714|gb|LDOC03012089.1|</td>\n",
       "      <td>2240570</td>\n",
       "      <td>106046</td>\n",
       "      <td>108709</td>\n",
       "      <td>-</td>\n",
       "      <td>chr11</td>\n",
       "      <td>135086622</td>\n",
       "      <td>83315283</td>\n",
       "      <td>83317946</td>\n",
       "      <td>0.0071</td>\n",
       "      <td>60</td>\n",
       "      <td>mm:17;ins:1,1;del:1,1;score:2563</td>\n",
       "    </tr>\n",
       "    <tr>\n",
       "      <th>3</th>\n",
       "      <td>CHM13.gi|953902714|gb|LDOC03012089.1|</td>\n",
       "      <td>2240570</td>\n",
       "      <td>1877445</td>\n",
       "      <td>1877777</td>\n",
       "      <td>+</td>\n",
       "      <td>chr17</td>\n",
       "      <td>83257441</td>\n",
       "      <td>39498872</td>\n",
       "      <td>39499205</td>\n",
       "      <td>0.0090</td>\n",
       "      <td>0</td>\n",
       "      <td>mm:0;ins:1,1;del:2,2;score:310</td>\n",
       "    </tr>\n",
       "    <tr>\n",
       "      <th>4</th>\n",
       "      <td>CHM13.gi|953902714|gb|LDOC03012089.1|</td>\n",
       "      <td>2240570</td>\n",
       "      <td>0</td>\n",
       "      <td>16424</td>\n",
       "      <td>-</td>\n",
       "      <td>chr17</td>\n",
       "      <td>83257441</td>\n",
       "      <td>43280031</td>\n",
       "      <td>43296418</td>\n",
       "      <td>0.0278</td>\n",
       "      <td>60</td>\n",
       "      <td>mm:93;ins:35,203;del:63,166;score:14799</td>\n",
       "    </tr>\n",
       "  </tbody>\n",
       "</table>\n",
       "</div>"
      ],
      "text/plain": [
       "                                  contig  sequence_coord  sequence_start  \\\n",
       "0  CHM13.gi|953902711|gb|LDOC03012091.1|           16569               0   \n",
       "1  CHM13.gi|953902713|gb|LDOC03012090.1|           48337               0   \n",
       "2  CHM13.gi|953902714|gb|LDOC03012089.1|         2240570          106046   \n",
       "3  CHM13.gi|953902714|gb|LDOC03012089.1|         2240570         1877445   \n",
       "4  CHM13.gi|953902714|gb|LDOC03012089.1|         2240570               0   \n",
       "\n",
       "   sequence_end pos_neg chromosome  reference_coord  reference_start  \\\n",
       "0         16569       +       chrM            16569                0   \n",
       "1         48337       +      chr17         83257441         64870026   \n",
       "2        108709       -      chr11        135086622         83315283   \n",
       "3       1877777       +      chr17         83257441         39498872   \n",
       "4         16424       -      chr17         83257441         43280031   \n",
       "\n",
       "   reference_end  unknown1  unknown2                   mismatch_ins_del_score  \n",
       "0          16569    0.0002        60         mm:1;ins:1,1;del:1,1;score:16549  \n",
       "1       64918353    0.0064        60  mm:116;ins:25,101;del:64,91;score:46930  \n",
       "2       83317946    0.0071        60         mm:17;ins:1,1;del:1,1;score:2563  \n",
       "3       39499205    0.0090         0           mm:0;ins:1,1;del:2,2;score:310  \n",
       "4       43296418    0.0278        60  mm:93;ins:35,203;del:63,166;score:14799  "
      ]
     },
     "execution_count": 53,
     "metadata": {},
     "output_type": "execute_result"
    }
   ],
   "source": [
    "df_SixG_sorted = pd.read_table(\"SixGenomes.htsbox.sort.out\", names = [\"contig\", \"sequence_coord\", \"sequence_start\", \"sequence_end\", \"pos_neg\", \"chromosome\", \"reference_coord\", \"reference_start\", \"reference_end\", \"unknown1\", \"unknown2\", \"mismatch_ins_del_score\"])\n",
    "print(df_SixG_sorted.shape)\n",
    "df_SixG_sorted.head()"
   ]
  },
  {
   "cell_type": "code",
   "execution_count": 56,
   "metadata": {
    "collapsed": false
   },
   "outputs": [],
   "source": [
    "df_SevenGenomes = pd.read_table(\"SevenGenomes.htsbox.out\", names = [\"contig\", \"sequence_coord\", \"sequence_start\", \"sequence_end\", \"pos_neg\", \"chromosome\", \"reference_coord\", \"reference_start\", \"reference_end\", \"unknown1\", \"unknown2\", \"mismatch_ins_del_score\"] )"
   ]
  },
  {
   "cell_type": "code",
   "execution_count": 57,
   "metadata": {
    "collapsed": false
   },
   "outputs": [
    {
     "name": "stdout",
     "output_type": "stream",
     "text": [
      "(303000, 12)\n"
     ]
    }
   ],
   "source": [
    "print(df_SevenGenomes.shape)"
   ]
  },
  {
   "cell_type": "code",
   "execution_count": 58,
   "metadata": {
    "collapsed": false
   },
   "outputs": [
    {
     "data": {
      "text/html": [
       "<div>\n",
       "<table border=\"1\" class=\"dataframe\">\n",
       "  <thead>\n",
       "    <tr style=\"text-align: right;\">\n",
       "      <th></th>\n",
       "      <th>contig</th>\n",
       "      <th>sequence_coord</th>\n",
       "      <th>sequence_start</th>\n",
       "      <th>sequence_end</th>\n",
       "      <th>pos_neg</th>\n",
       "      <th>chromosome</th>\n",
       "      <th>reference_coord</th>\n",
       "      <th>reference_start</th>\n",
       "      <th>reference_end</th>\n",
       "      <th>unknown1</th>\n",
       "      <th>unknown2</th>\n",
       "      <th>mismatch_ins_del_score</th>\n",
       "    </tr>\n",
       "  </thead>\n",
       "  <tbody>\n",
       "    <tr>\n",
       "      <th>0</th>\n",
       "      <td>HG003.002828F</td>\n",
       "      <td>30680</td>\n",
       "      <td>20992</td>\n",
       "      <td>28248</td>\n",
       "      <td>-</td>\n",
       "      <td>chr1</td>\n",
       "      <td>248956422</td>\n",
       "      <td>10000</td>\n",
       "      <td>17237</td>\n",
       "      <td>0.0236</td>\n",
       "      <td>60</td>\n",
       "      <td>mm:59;ins:19,66;del:28,47;score:6500</td>\n",
       "    </tr>\n",
       "    <tr>\n",
       "      <th>1</th>\n",
       "      <td>CHM1.gi|929850084|gb|LJII01003401.1|</td>\n",
       "      <td>27694</td>\n",
       "      <td>26761</td>\n",
       "      <td>27343</td>\n",
       "      <td>-</td>\n",
       "      <td>chr1</td>\n",
       "      <td>248956422</td>\n",
       "      <td>10000</td>\n",
       "      <td>10468</td>\n",
       "      <td>0.2274</td>\n",
       "      <td>23</td>\n",
       "      <td>mm:13;ins:13,117;del:3,3;score:184</td>\n",
       "    </tr>\n",
       "    <tr>\n",
       "      <th>2</th>\n",
       "      <td>CHM1.gi|929850129|gb|LJII01003371.1|</td>\n",
       "      <td>26266</td>\n",
       "      <td>1888</td>\n",
       "      <td>26266</td>\n",
       "      <td>+</td>\n",
       "      <td>chr1</td>\n",
       "      <td>248956422</td>\n",
       "      <td>10001</td>\n",
       "      <td>34198</td>\n",
       "      <td>0.0183</td>\n",
       "      <td>60</td>\n",
       "      <td>mm:161;ins:20,234;del:27,53;score:22770</td>\n",
       "    </tr>\n",
       "    <tr>\n",
       "      <th>3</th>\n",
       "      <td>CHM13.gi|953910992|gb|LDOC03004332.1|</td>\n",
       "      <td>32470</td>\n",
       "      <td>1405</td>\n",
       "      <td>2169</td>\n",
       "      <td>+</td>\n",
       "      <td>chr1</td>\n",
       "      <td>248956422</td>\n",
       "      <td>10051</td>\n",
       "      <td>10800</td>\n",
       "      <td>0.1843</td>\n",
       "      <td>21</td>\n",
       "      <td>mm:35;ins:18,65;del:8,50;score:231</td>\n",
       "    </tr>\n",
       "    <tr>\n",
       "      <th>4</th>\n",
       "      <td>HG003.010418F</td>\n",
       "      <td>2613</td>\n",
       "      <td>0</td>\n",
       "      <td>80</td>\n",
       "      <td>+</td>\n",
       "      <td>chr1</td>\n",
       "      <td>248956422</td>\n",
       "      <td>10117</td>\n",
       "      <td>10198</td>\n",
       "      <td>0.0123</td>\n",
       "      <td>13</td>\n",
       "      <td>mm:0;ins:0,0;del:1,1;score:73</td>\n",
       "    </tr>\n",
       "  </tbody>\n",
       "</table>\n",
       "</div>"
      ],
      "text/plain": [
       "                                  contig  sequence_coord  sequence_start  \\\n",
       "0                          HG003.002828F           30680           20992   \n",
       "1   CHM1.gi|929850084|gb|LJII01003401.1|           27694           26761   \n",
       "2   CHM1.gi|929850129|gb|LJII01003371.1|           26266            1888   \n",
       "3  CHM13.gi|953910992|gb|LDOC03004332.1|           32470            1405   \n",
       "4                          HG003.010418F            2613               0   \n",
       "\n",
       "   sequence_end pos_neg chromosome  reference_coord  reference_start  \\\n",
       "0         28248       -       chr1        248956422            10000   \n",
       "1         27343       -       chr1        248956422            10000   \n",
       "2         26266       +       chr1        248956422            10001   \n",
       "3          2169       +       chr1        248956422            10051   \n",
       "4            80       +       chr1        248956422            10117   \n",
       "\n",
       "   reference_end  unknown1  unknown2                   mismatch_ins_del_score  \n",
       "0          17237    0.0236        60     mm:59;ins:19,66;del:28,47;score:6500  \n",
       "1          10468    0.2274        23       mm:13;ins:13,117;del:3,3;score:184  \n",
       "2          34198    0.0183        60  mm:161;ins:20,234;del:27,53;score:22770  \n",
       "3          10800    0.1843        21       mm:35;ins:18,65;del:8,50;score:231  \n",
       "4          10198    0.0123        13            mm:0;ins:0,0;del:1,1;score:73  "
      ]
     },
     "execution_count": 58,
     "metadata": {},
     "output_type": "execute_result"
    }
   ],
   "source": [
    "df_SevenGenomes.head()"
   ]
  },
  {
   "cell_type": "code",
   "execution_count": 90,
   "metadata": {
    "collapsed": false
   },
   "outputs": [
    {
     "name": "stdout",
     "output_type": "stream",
     "text": [
      "(303000, 12)\n"
     ]
    },
    {
     "data": {
      "text/html": [
       "<div>\n",
       "<table border=\"1\" class=\"dataframe\">\n",
       "  <thead>\n",
       "    <tr style=\"text-align: right;\">\n",
       "      <th></th>\n",
       "      <th>contig</th>\n",
       "      <th>sequence_coord</th>\n",
       "      <th>sequence_start</th>\n",
       "      <th>sequence_end</th>\n",
       "      <th>pos_neg</th>\n",
       "      <th>chromosome</th>\n",
       "      <th>reference_coord</th>\n",
       "      <th>reference_start</th>\n",
       "      <th>reference_end</th>\n",
       "      <th>unknown1</th>\n",
       "      <th>unknown2</th>\n",
       "      <th>mismatch_ins_del_score</th>\n",
       "    </tr>\n",
       "  </thead>\n",
       "  <tbody>\n",
       "    <tr>\n",
       "      <th>0</th>\n",
       "      <td>CHM13.gi|953902711|gb|LDOC03012091.1|</td>\n",
       "      <td>16569</td>\n",
       "      <td>0</td>\n",
       "      <td>16569</td>\n",
       "      <td>+</td>\n",
       "      <td>chrM</td>\n",
       "      <td>16569</td>\n",
       "      <td>0</td>\n",
       "      <td>16569</td>\n",
       "      <td>0.0002</td>\n",
       "      <td>60</td>\n",
       "      <td>mm:1;ins:1,1;del:1,1;score:16549</td>\n",
       "    </tr>\n",
       "    <tr>\n",
       "      <th>1</th>\n",
       "      <td>CHM13.gi|953902713|gb|LDOC03012090.1|</td>\n",
       "      <td>48337</td>\n",
       "      <td>0</td>\n",
       "      <td>48337</td>\n",
       "      <td>+</td>\n",
       "      <td>chr17</td>\n",
       "      <td>83257441</td>\n",
       "      <td>64870026</td>\n",
       "      <td>64918353</td>\n",
       "      <td>0.0064</td>\n",
       "      <td>60</td>\n",
       "      <td>mm:116;ins:25,101;del:64,91;score:46930</td>\n",
       "    </tr>\n",
       "    <tr>\n",
       "      <th>2</th>\n",
       "      <td>CHM13.gi|953902714|gb|LDOC03012089.1|</td>\n",
       "      <td>2240570</td>\n",
       "      <td>106046</td>\n",
       "      <td>108709</td>\n",
       "      <td>-</td>\n",
       "      <td>chr11</td>\n",
       "      <td>135086622</td>\n",
       "      <td>83315283</td>\n",
       "      <td>83317946</td>\n",
       "      <td>0.0071</td>\n",
       "      <td>60</td>\n",
       "      <td>mm:17;ins:1,1;del:1,1;score:2563</td>\n",
       "    </tr>\n",
       "    <tr>\n",
       "      <th>3</th>\n",
       "      <td>CHM13.gi|953902714|gb|LDOC03012089.1|</td>\n",
       "      <td>2240570</td>\n",
       "      <td>1877445</td>\n",
       "      <td>1877777</td>\n",
       "      <td>+</td>\n",
       "      <td>chr17</td>\n",
       "      <td>83257441</td>\n",
       "      <td>39498872</td>\n",
       "      <td>39499205</td>\n",
       "      <td>0.0090</td>\n",
       "      <td>0</td>\n",
       "      <td>mm:0;ins:1,1;del:2,2;score:310</td>\n",
       "    </tr>\n",
       "    <tr>\n",
       "      <th>4</th>\n",
       "      <td>CHM13.gi|953902714|gb|LDOC03012089.1|</td>\n",
       "      <td>2240570</td>\n",
       "      <td>0</td>\n",
       "      <td>16424</td>\n",
       "      <td>-</td>\n",
       "      <td>chr17</td>\n",
       "      <td>83257441</td>\n",
       "      <td>43280031</td>\n",
       "      <td>43296418</td>\n",
       "      <td>0.0278</td>\n",
       "      <td>60</td>\n",
       "      <td>mm:93;ins:35,203;del:63,166;score:14799</td>\n",
       "    </tr>\n",
       "  </tbody>\n",
       "</table>\n",
       "</div>"
      ],
      "text/plain": [
       "                                  contig  sequence_coord  sequence_start  \\\n",
       "0  CHM13.gi|953902711|gb|LDOC03012091.1|           16569               0   \n",
       "1  CHM13.gi|953902713|gb|LDOC03012090.1|           48337               0   \n",
       "2  CHM13.gi|953902714|gb|LDOC03012089.1|         2240570          106046   \n",
       "3  CHM13.gi|953902714|gb|LDOC03012089.1|         2240570         1877445   \n",
       "4  CHM13.gi|953902714|gb|LDOC03012089.1|         2240570               0   \n",
       "\n",
       "   sequence_end pos_neg chromosome  reference_coord  reference_start  \\\n",
       "0         16569       +       chrM            16569                0   \n",
       "1         48337       +      chr17         83257441         64870026   \n",
       "2        108709       -      chr11        135086622         83315283   \n",
       "3       1877777       +      chr17         83257441         39498872   \n",
       "4         16424       -      chr17         83257441         43280031   \n",
       "\n",
       "   reference_end  unknown1  unknown2                   mismatch_ins_del_score  \n",
       "0          16569    0.0002        60         mm:1;ins:1,1;del:1,1;score:16549  \n",
       "1       64918353    0.0064        60  mm:116;ins:25,101;del:64,91;score:46930  \n",
       "2       83317946    0.0071        60         mm:17;ins:1,1;del:1,1;score:2563  \n",
       "3       39499205    0.0090         0           mm:0;ins:1,1;del:2,2;score:310  \n",
       "4       43296418    0.0278        60  mm:93;ins:35,203;del:63,166;score:14799  "
      ]
     },
     "execution_count": 90,
     "metadata": {},
     "output_type": "execute_result"
    }
   ],
   "source": [
    "df_SevenG_sorted = pd.read_table(\"SevenGenomes.htsbox.sort.out\", names = [\"contig\", \"sequence_coord\", \"sequence_start\", \"sequence_end\", \"pos_neg\", \"chromosome\", \"reference_coord\", \"reference_start\", \"reference_end\", \"unknown1\", \"unknown2\", \"mismatch_ins_del_score\"])\n",
    "print(df_SevenG_sorted.shape)\n",
    "df_SevenG_sorted.head()"
   ]
  },
  {
   "cell_type": "code",
   "execution_count": 91,
   "metadata": {
    "collapsed": false
   },
   "outputs": [
    {
     "name": "stdout",
     "output_type": "stream",
     "text": [
      "58993\n",
      "62634\n"
     ]
    }
   ],
   "source": [
    "# length of total configs\n",
    "print(len(np.unique(df_SixG_sorted.contig)))\n",
    "print(len(np.unique(df_SevenGenomes.contig)))"
   ]
  },
  {
   "cell_type": "code",
   "execution_count": 92,
   "metadata": {
    "collapsed": true
   },
   "outputs": [],
   "source": [
    "# df_SixG_sorted.to_csv(\"SixGenome_contigs.csv\", index=False)\n",
    "# df_SevenG_sorted.to_csv(\"SevenGenome_contigs.csv\", index=False)"
   ]
  },
  {
   "cell_type": "code",
   "execution_count": 102,
   "metadata": {
    "collapsed": false
   },
   "outputs": [],
   "source": [
    "df_SixG_sorted[\"len_sequence\"] = np.absolute(df_SixG_sorted.sequence_end - df_SixG_sorted.sequence_start)+1\n",
    "df_SixG_sorted[\"len_reference\"] = np.absolute(df_SixG_sorted.reference_end - df_SixG_sorted.reference_start)+1"
   ]
  },
  {
   "cell_type": "code",
   "execution_count": 103,
   "metadata": {
    "collapsed": false
   },
   "outputs": [
    {
     "data": {
      "text/html": [
       "<div>\n",
       "<table border=\"1\" class=\"dataframe\">\n",
       "  <thead>\n",
       "    <tr style=\"text-align: right;\">\n",
       "      <th></th>\n",
       "      <th>contig</th>\n",
       "      <th>sequence_coord</th>\n",
       "      <th>sequence_start</th>\n",
       "      <th>sequence_end</th>\n",
       "      <th>pos_neg</th>\n",
       "      <th>chromosome</th>\n",
       "      <th>reference_coord</th>\n",
       "      <th>reference_start</th>\n",
       "      <th>reference_end</th>\n",
       "      <th>unknown1</th>\n",
       "      <th>unknown2</th>\n",
       "      <th>mismatch_ins_del_score</th>\n",
       "      <th>len_sequence</th>\n",
       "      <th>len_reference</th>\n",
       "      <th>length_check</th>\n",
       "    </tr>\n",
       "  </thead>\n",
       "  <tbody>\n",
       "    <tr>\n",
       "      <th>0</th>\n",
       "      <td>CHM13.gi|953902711|gb|LDOC03012091.1|</td>\n",
       "      <td>16569</td>\n",
       "      <td>0</td>\n",
       "      <td>16569</td>\n",
       "      <td>+</td>\n",
       "      <td>chrM</td>\n",
       "      <td>16569</td>\n",
       "      <td>0</td>\n",
       "      <td>16569</td>\n",
       "      <td>0.0002</td>\n",
       "      <td>60</td>\n",
       "      <td>mm:1;ins:1,1;del:1,1;score:16549</td>\n",
       "      <td>16570</td>\n",
       "      <td>16570</td>\n",
       "      <td>correct</td>\n",
       "    </tr>\n",
       "    <tr>\n",
       "      <th>1</th>\n",
       "      <td>CHM13.gi|953902713|gb|LDOC03012090.1|</td>\n",
       "      <td>48337</td>\n",
       "      <td>0</td>\n",
       "      <td>48337</td>\n",
       "      <td>+</td>\n",
       "      <td>chr17</td>\n",
       "      <td>83257441</td>\n",
       "      <td>64870026</td>\n",
       "      <td>64918353</td>\n",
       "      <td>0.0064</td>\n",
       "      <td>60</td>\n",
       "      <td>mm:116;ins:25,101;del:64,91;score:46930</td>\n",
       "      <td>48338</td>\n",
       "      <td>48328</td>\n",
       "      <td>wrong</td>\n",
       "    </tr>\n",
       "    <tr>\n",
       "      <th>2</th>\n",
       "      <td>CHM13.gi|953902714|gb|LDOC03012089.1|</td>\n",
       "      <td>2240570</td>\n",
       "      <td>106046</td>\n",
       "      <td>108709</td>\n",
       "      <td>-</td>\n",
       "      <td>chr11</td>\n",
       "      <td>135086622</td>\n",
       "      <td>83315283</td>\n",
       "      <td>83317946</td>\n",
       "      <td>0.0071</td>\n",
       "      <td>60</td>\n",
       "      <td>mm:17;ins:1,1;del:1,1;score:2563</td>\n",
       "      <td>2664</td>\n",
       "      <td>2664</td>\n",
       "      <td>correct</td>\n",
       "    </tr>\n",
       "    <tr>\n",
       "      <th>3</th>\n",
       "      <td>CHM13.gi|953902714|gb|LDOC03012089.1|</td>\n",
       "      <td>2240570</td>\n",
       "      <td>1877445</td>\n",
       "      <td>1877777</td>\n",
       "      <td>+</td>\n",
       "      <td>chr17</td>\n",
       "      <td>83257441</td>\n",
       "      <td>39498872</td>\n",
       "      <td>39499205</td>\n",
       "      <td>0.0090</td>\n",
       "      <td>0</td>\n",
       "      <td>mm:0;ins:1,1;del:2,2;score:310</td>\n",
       "      <td>333</td>\n",
       "      <td>334</td>\n",
       "      <td>wrong</td>\n",
       "    </tr>\n",
       "    <tr>\n",
       "      <th>4</th>\n",
       "      <td>CHM13.gi|953902714|gb|LDOC03012089.1|</td>\n",
       "      <td>2240570</td>\n",
       "      <td>0</td>\n",
       "      <td>16424</td>\n",
       "      <td>-</td>\n",
       "      <td>chr17</td>\n",
       "      <td>83257441</td>\n",
       "      <td>43280031</td>\n",
       "      <td>43296418</td>\n",
       "      <td>0.0278</td>\n",
       "      <td>60</td>\n",
       "      <td>mm:93;ins:35,203;del:63,166;score:14799</td>\n",
       "      <td>16425</td>\n",
       "      <td>16388</td>\n",
       "      <td>wrong</td>\n",
       "    </tr>\n",
       "  </tbody>\n",
       "</table>\n",
       "</div>"
      ],
      "text/plain": [
       "                                  contig  sequence_coord  sequence_start  \\\n",
       "0  CHM13.gi|953902711|gb|LDOC03012091.1|           16569               0   \n",
       "1  CHM13.gi|953902713|gb|LDOC03012090.1|           48337               0   \n",
       "2  CHM13.gi|953902714|gb|LDOC03012089.1|         2240570          106046   \n",
       "3  CHM13.gi|953902714|gb|LDOC03012089.1|         2240570         1877445   \n",
       "4  CHM13.gi|953902714|gb|LDOC03012089.1|         2240570               0   \n",
       "\n",
       "   sequence_end pos_neg chromosome  reference_coord  reference_start  \\\n",
       "0         16569       +       chrM            16569                0   \n",
       "1         48337       +      chr17         83257441         64870026   \n",
       "2        108709       -      chr11        135086622         83315283   \n",
       "3       1877777       +      chr17         83257441         39498872   \n",
       "4         16424       -      chr17         83257441         43280031   \n",
       "\n",
       "   reference_end  unknown1  unknown2                   mismatch_ins_del_score  \\\n",
       "0          16569    0.0002        60         mm:1;ins:1,1;del:1,1;score:16549   \n",
       "1       64918353    0.0064        60  mm:116;ins:25,101;del:64,91;score:46930   \n",
       "2       83317946    0.0071        60         mm:17;ins:1,1;del:1,1;score:2563   \n",
       "3       39499205    0.0090         0           mm:0;ins:1,1;del:2,2;score:310   \n",
       "4       43296418    0.0278        60  mm:93;ins:35,203;del:63,166;score:14799   \n",
       "\n",
       "   len_sequence  len_reference length_check  \n",
       "0         16570          16570      correct  \n",
       "1         48338          48328        wrong  \n",
       "2          2664           2664      correct  \n",
       "3           333            334        wrong  \n",
       "4         16425          16388        wrong  "
      ]
     },
     "execution_count": 103,
     "metadata": {},
     "output_type": "execute_result"
    }
   ],
   "source": [
    "df_SixG_sorted.head()"
   ]
  },
  {
   "cell_type": "code",
   "execution_count": 104,
   "metadata": {
    "collapsed": false
   },
   "outputs": [],
   "source": [
    "df_SixG_sorted[\"length_check\"] = np.where(df_SixG_sorted.len_sequence == df_SixG_sorted.len_reference, \"correct\", \"wrong\")"
   ]
  },
  {
   "cell_type": "code",
   "execution_count": 105,
   "metadata": {
    "collapsed": false
   },
   "outputs": [
    {
     "data": {
      "text/html": [
       "<div>\n",
       "<table border=\"1\" class=\"dataframe\">\n",
       "  <thead>\n",
       "    <tr style=\"text-align: right;\">\n",
       "      <th></th>\n",
       "      <th>contig</th>\n",
       "      <th>sequence_coord</th>\n",
       "      <th>sequence_start</th>\n",
       "      <th>sequence_end</th>\n",
       "      <th>pos_neg</th>\n",
       "      <th>chromosome</th>\n",
       "      <th>reference_coord</th>\n",
       "      <th>reference_start</th>\n",
       "      <th>reference_end</th>\n",
       "      <th>unknown1</th>\n",
       "      <th>unknown2</th>\n",
       "      <th>mismatch_ins_del_score</th>\n",
       "      <th>len_sequence</th>\n",
       "      <th>len_reference</th>\n",
       "      <th>length_check</th>\n",
       "    </tr>\n",
       "  </thead>\n",
       "  <tbody>\n",
       "    <tr>\n",
       "      <th>0</th>\n",
       "      <td>CHM13.gi|953902711|gb|LDOC03012091.1|</td>\n",
       "      <td>16569</td>\n",
       "      <td>0</td>\n",
       "      <td>16569</td>\n",
       "      <td>+</td>\n",
       "      <td>chrM</td>\n",
       "      <td>16569</td>\n",
       "      <td>0</td>\n",
       "      <td>16569</td>\n",
       "      <td>0.0002</td>\n",
       "      <td>60</td>\n",
       "      <td>mm:1;ins:1,1;del:1,1;score:16549</td>\n",
       "      <td>16570</td>\n",
       "      <td>16570</td>\n",
       "      <td>correct</td>\n",
       "    </tr>\n",
       "    <tr>\n",
       "      <th>1</th>\n",
       "      <td>CHM13.gi|953902713|gb|LDOC03012090.1|</td>\n",
       "      <td>48337</td>\n",
       "      <td>0</td>\n",
       "      <td>48337</td>\n",
       "      <td>+</td>\n",
       "      <td>chr17</td>\n",
       "      <td>83257441</td>\n",
       "      <td>64870026</td>\n",
       "      <td>64918353</td>\n",
       "      <td>0.0064</td>\n",
       "      <td>60</td>\n",
       "      <td>mm:116;ins:25,101;del:64,91;score:46930</td>\n",
       "      <td>48338</td>\n",
       "      <td>48328</td>\n",
       "      <td>wrong</td>\n",
       "    </tr>\n",
       "    <tr>\n",
       "      <th>2</th>\n",
       "      <td>CHM13.gi|953902714|gb|LDOC03012089.1|</td>\n",
       "      <td>2240570</td>\n",
       "      <td>106046</td>\n",
       "      <td>108709</td>\n",
       "      <td>-</td>\n",
       "      <td>chr11</td>\n",
       "      <td>135086622</td>\n",
       "      <td>83315283</td>\n",
       "      <td>83317946</td>\n",
       "      <td>0.0071</td>\n",
       "      <td>60</td>\n",
       "      <td>mm:17;ins:1,1;del:1,1;score:2563</td>\n",
       "      <td>2664</td>\n",
       "      <td>2664</td>\n",
       "      <td>correct</td>\n",
       "    </tr>\n",
       "    <tr>\n",
       "      <th>3</th>\n",
       "      <td>CHM13.gi|953902714|gb|LDOC03012089.1|</td>\n",
       "      <td>2240570</td>\n",
       "      <td>1877445</td>\n",
       "      <td>1877777</td>\n",
       "      <td>+</td>\n",
       "      <td>chr17</td>\n",
       "      <td>83257441</td>\n",
       "      <td>39498872</td>\n",
       "      <td>39499205</td>\n",
       "      <td>0.0090</td>\n",
       "      <td>0</td>\n",
       "      <td>mm:0;ins:1,1;del:2,2;score:310</td>\n",
       "      <td>333</td>\n",
       "      <td>334</td>\n",
       "      <td>wrong</td>\n",
       "    </tr>\n",
       "    <tr>\n",
       "      <th>4</th>\n",
       "      <td>CHM13.gi|953902714|gb|LDOC03012089.1|</td>\n",
       "      <td>2240570</td>\n",
       "      <td>0</td>\n",
       "      <td>16424</td>\n",
       "      <td>-</td>\n",
       "      <td>chr17</td>\n",
       "      <td>83257441</td>\n",
       "      <td>43280031</td>\n",
       "      <td>43296418</td>\n",
       "      <td>0.0278</td>\n",
       "      <td>60</td>\n",
       "      <td>mm:93;ins:35,203;del:63,166;score:14799</td>\n",
       "      <td>16425</td>\n",
       "      <td>16388</td>\n",
       "      <td>wrong</td>\n",
       "    </tr>\n",
       "  </tbody>\n",
       "</table>\n",
       "</div>"
      ],
      "text/plain": [
       "                                  contig  sequence_coord  sequence_start  \\\n",
       "0  CHM13.gi|953902711|gb|LDOC03012091.1|           16569               0   \n",
       "1  CHM13.gi|953902713|gb|LDOC03012090.1|           48337               0   \n",
       "2  CHM13.gi|953902714|gb|LDOC03012089.1|         2240570          106046   \n",
       "3  CHM13.gi|953902714|gb|LDOC03012089.1|         2240570         1877445   \n",
       "4  CHM13.gi|953902714|gb|LDOC03012089.1|         2240570               0   \n",
       "\n",
       "   sequence_end pos_neg chromosome  reference_coord  reference_start  \\\n",
       "0         16569       +       chrM            16569                0   \n",
       "1         48337       +      chr17         83257441         64870026   \n",
       "2        108709       -      chr11        135086622         83315283   \n",
       "3       1877777       +      chr17         83257441         39498872   \n",
       "4         16424       -      chr17         83257441         43280031   \n",
       "\n",
       "   reference_end  unknown1  unknown2                   mismatch_ins_del_score  \\\n",
       "0          16569    0.0002        60         mm:1;ins:1,1;del:1,1;score:16549   \n",
       "1       64918353    0.0064        60  mm:116;ins:25,101;del:64,91;score:46930   \n",
       "2       83317946    0.0071        60         mm:17;ins:1,1;del:1,1;score:2563   \n",
       "3       39499205    0.0090         0           mm:0;ins:1,1;del:2,2;score:310   \n",
       "4       43296418    0.0278        60  mm:93;ins:35,203;del:63,166;score:14799   \n",
       "\n",
       "   len_sequence  len_reference length_check  \n",
       "0         16570          16570      correct  \n",
       "1         48338          48328        wrong  \n",
       "2          2664           2664      correct  \n",
       "3           333            334        wrong  \n",
       "4         16425          16388        wrong  "
      ]
     },
     "execution_count": 105,
     "metadata": {},
     "output_type": "execute_result"
    }
   ],
   "source": [
    "df_SixG_sorted.head()"
   ]
  },
  {
   "cell_type": "code",
   "execution_count": 106,
   "metadata": {
    "collapsed": true
   },
   "outputs": [],
   "source": [
    "correct = df_SixG_sorted[df_SixG_sorted[\"length_check\"] == \"correct\"]\n",
    "wrong = df_SixG_sorted[df_SixG_sorted[\"length_check\"] == \"wrong\"]"
   ]
  },
  {
   "cell_type": "code",
   "execution_count": 107,
   "metadata": {
    "collapsed": false
   },
   "outputs": [
    {
     "name": "stdout",
     "output_type": "stream",
     "text": [
      "23835\n",
      "237630\n"
     ]
    }
   ],
   "source": [
    "print(len(correct.length_check))\n",
    "print(len(wrong.length_check))"
   ]
  },
  {
   "cell_type": "code",
   "execution_count": 108,
   "metadata": {
    "collapsed": false
   },
   "outputs": [
    {
     "data": {
      "text/plain": [
       "23835"
      ]
     },
     "execution_count": 108,
     "metadata": {},
     "output_type": "execute_result"
    }
   ],
   "source": [
    "len(correct.length_check)"
   ]
  },
  {
   "cell_type": "code",
   "execution_count": 109,
   "metadata": {
    "collapsed": false
   },
   "outputs": [
    {
     "data": {
      "text/plain": [
       "wrong      237630\n",
       "correct     23835\n",
       "Name: length_check, dtype: int64"
      ]
     },
     "execution_count": 109,
     "metadata": {},
     "output_type": "execute_result"
    }
   ],
   "source": [
    "df_SixG_sorted.length_check.value_counts()"
   ]
  },
  {
   "cell_type": "code",
   "execution_count": 110,
   "metadata": {
    "collapsed": false
   },
   "outputs": [
    {
     "data": {
      "text/plain": [
       "0.10030299204645877"
      ]
     },
     "execution_count": 110,
     "metadata": {},
     "output_type": "execute_result"
    }
   ],
   "source": [
    "23835/237630"
   ]
  },
  {
   "cell_type": "code",
   "execution_count": null,
   "metadata": {
    "collapsed": true
   },
   "outputs": [],
   "source": []
  },
  {
   "cell_type": "code",
   "execution_count": null,
   "metadata": {
    "collapsed": true
   },
   "outputs": [],
   "source": []
  },
  {
   "cell_type": "code",
   "execution_count": null,
   "metadata": {
    "collapsed": true
   },
   "outputs": [],
   "source": []
  },
  {
   "cell_type": "code",
   "execution_count": null,
   "metadata": {
    "collapsed": true
   },
   "outputs": [],
   "source": []
  },
  {
   "cell_type": "code",
   "execution_count": null,
   "metadata": {
    "collapsed": true
   },
   "outputs": [],
   "source": []
  },
  {
   "cell_type": "code",
   "execution_count": null,
   "metadata": {
    "collapsed": true
   },
   "outputs": [],
   "source": []
  },
  {
   "cell_type": "code",
   "execution_count": null,
   "metadata": {
    "collapsed": true
   },
   "outputs": [],
   "source": []
  },
  {
   "cell_type": "code",
   "execution_count": null,
   "metadata": {
    "collapsed": true
   },
   "outputs": [],
   "source": []
  },
  {
   "cell_type": "code",
   "execution_count": null,
   "metadata": {
    "collapsed": true
   },
   "outputs": [],
   "source": []
  },
  {
   "cell_type": "code",
   "execution_count": null,
   "metadata": {
    "collapsed": true
   },
   "outputs": [],
   "source": []
  },
  {
   "cell_type": "code",
   "execution_count": null,
   "metadata": {
    "collapsed": true
   },
   "outputs": [],
   "source": []
  },
  {
   "cell_type": "code",
   "execution_count": null,
   "metadata": {
    "collapsed": true
   },
   "outputs": [],
   "source": []
  },
  {
   "cell_type": "code",
   "execution_count": null,
   "metadata": {
    "collapsed": true
   },
   "outputs": [],
   "source": []
  }
 ],
 "metadata": {
  "kernelspec": {
   "display_name": "Python 3",
   "language": "python",
   "name": "python3"
  },
  "language_info": {
   "codemirror_mode": {
    "name": "ipython",
    "version": 3
   },
   "file_extension": ".py",
   "mimetype": "text/x-python",
   "name": "python",
   "nbconvert_exporter": "python",
   "pygments_lexer": "ipython3",
   "version": "3.4.5"
  }
 },
 "nbformat": 4,
 "nbformat_minor": 1
}
